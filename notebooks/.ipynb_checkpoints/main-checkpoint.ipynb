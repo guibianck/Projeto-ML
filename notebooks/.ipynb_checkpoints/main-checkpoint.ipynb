{
 "cells": [
  {
   "cell_type": "code",
   "execution_count": 1,
   "metadata": {
    "vscode": {
     "languageId": "plaintext"
    }
   },
   "outputs": [
    {
     "name": "stdout",
     "output_type": "stream",
     "text": [
      "Arquivo não encontrado: C:\\Users\\guigu\\OneDrive\\Área de Trabalho\\PROJETO ML\\datasets\\housing\\housing.csv. Baixando agora...\n",
      "Dados carregados com sucesso!\n",
      "Carregando dados...\n",
      "Preparando dados...\n",
      "Plotando a distribuição geográfica...\n",
      "Plotando a matriz de dispersão...\n",
      "Codificando categorias ordinalmente...\n",
      "Codificando categorias com One-Hot...\n",
      "Adicionando atributos combinados...\n",
      "Exibindo as primeiras linhas dos dados transformados...\n",
      "  longitude latitude housing_median_age total_rooms total_bedrooms population  \\\n",
      "0   -122.23    37.88               41.0       880.0          129.0      322.0   \n",
      "1   -122.22    37.86               21.0      7099.0         1106.0     2401.0   \n",
      "2   -122.24    37.85               52.0      1467.0          190.0      496.0   \n",
      "3   -122.25    37.85               52.0      1274.0          235.0      558.0   \n",
      "4   -122.25    37.85               52.0      1627.0          280.0      565.0   \n",
      "\n",
      "  households median_income median_house_value ocean_proximity id  \\\n",
      "0      126.0        8.3252           452600.0        NEAR BAY  0   \n",
      "1     1138.0        8.3014           358500.0        NEAR BAY  1   \n",
      "2      177.0        7.2574           352100.0        NEAR BAY  2   \n",
      "3      219.0        5.6431           341300.0        NEAR BAY  3   \n",
      "4      259.0        3.8462           342200.0        NEAR BAY  4   \n",
      "\n",
      "  rooms_per_household population_per_household bedrooms_per_room  \n",
      "0            6.984127                 2.555556          0.146591  \n",
      "1            6.238137                 2.109842          0.155797  \n",
      "2            8.288136                  2.80226          0.129516  \n",
      "3            5.817352                 2.547945          0.184458  \n",
      "4            6.281853                 2.181467          0.172096  \n"
     ]
    }
   ],
   "source": [
    "import sys\n",
    "import os\n",
    "import pandas as pd\n",
    "\n",
    "sys.path.append(os.path.abspath(os.path.join('..', 'scripts')))\n",
    "\n",
    "from EDA import plot_geographical_distribution, plot_scatter_matrix, prepare_data\n",
    "from data_prep import fetch_housing_data, load_housing_data, split_train_test_by_id, encode_ordinal, encode_one_hot, CombinedAttributesAdder\n",
    "\n",
    "# Definir os caminhos\n",
    "PROJECT_ROOT = os.path.abspath(os.path.join(os.getcwd(), '..'))  \n",
    "OUTPUT_PATH = os.path.join(PROJECT_ROOT, \"outputs\")  \n",
    "\n",
    "# Criar a pasta 'outputs' se não existir\n",
    "os.makedirs(OUTPUT_PATH, exist_ok=True)\n",
    "\n",
    "# Carregar os dados\n",
    "print(\"Carregando dados...\")\n",
    "fetch_housing_data()  # Baixa os dados se necessário\n",
    "housing = load_housing_data()  # Carrega os dados CSV\n",
    "\n",
    "# Preparação dos dados (EDA)\n",
    "print(\"Preparando dados...\")\n",
    "housing_prepared, housing_labels = prepare_data(housing)\n",
    "\n",
    "# Plotando a distribuição geográfica dos dados\n",
    "print(\"Plotando a distribuição geográfica...\")\n",
    "plot_geographical_distribution(housing, OUTPUT_PATH)  \n",
    "\n",
    "# Plotando a matriz de dispersão\n",
    "print(\"Plotando a matriz de dispersão...\")\n",
    "plot_scatter_matrix(housing, OUTPUT_PATH)  \n",
    "\n",
    "\n",
    "print(\"Codificando categorias ordinalmente...\")\n",
    "housing_cat = housing[['ocean_proximity']]  \n",
    "housing_cat_encoded, categories = encode_ordinal(housing_cat)  \n",
    "\n",
    "\n",
    "print(\"Codificando categorias com One-Hot...\")\n",
    "housing_cat_1hot = encode_one_hot(housing_cat) \n",
    "\n",
    "\n",
    "print(\"Adicionando atributos combinados...\")\n",
    "attr_adder = CombinedAttributesAdder(add_bedrooms_per_room=True)\n",
    "housing_data = housing.values \n",
    "housing_data_transformed = attr_adder.transform(housing_data)  \n",
    "\n",
    "# Exibindo as primeiras linhas dos dados transformados\n",
    "print(\"Exibindo as primeiras linhas dos dados transformados...\")\n",
    "columns = housing.columns.tolist() + ['rooms_per_household', 'population_per_household', 'bedrooms_per_room']\n",
    "housing_transformed_df = pd.DataFrame(housing_data_transformed, columns=columns)\n",
    "print(housing_transformed_df.head())  \n"
   ]
  },
  {
   "cell_type": "code",
   "execution_count": null,
   "metadata": {},
   "outputs": [],
   "source": []
  }
 ],
 "metadata": {
  "kernelspec": {
   "display_name": "Python 3 (ipykernel)",
   "language": "python",
   "name": "python3"
  },
  "language_info": {
   "codemirror_mode": {
    "name": "ipython",
    "version": 3
   },
   "file_extension": ".py",
   "mimetype": "text/x-python",
   "name": "python",
   "nbconvert_exporter": "python",
   "pygments_lexer": "ipython3",
   "version": "3.13.1"
  }
 },
 "nbformat": 4,
 "nbformat_minor": 4
}
